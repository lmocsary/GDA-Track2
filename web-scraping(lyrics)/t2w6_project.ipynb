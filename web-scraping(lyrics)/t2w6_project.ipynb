{
 "cells": [
  {
   "cell_type": "code",
   "metadata": {
    "tags": [],
    "cell_id": "00000-b0456307-8ba1-4a5c-b30d-f4c521ee7edc",
    "deepnote_to_be_reexecuted": false,
    "source_hash": "b834d971",
    "execution_start": 1633102713806,
    "execution_millis": 0,
    "deepnote_cell_type": "code"
   },
   "source": "from bs4 import BeautifulSoup\nimport os\nfrom sklearn.model_selection import cross_val_score\nfrom sklearn.linear_model import LogisticRegression\nfrom sklearn.pipeline import make_pipeline\nfrom os import walk\n#from django.utils.html import strip_tags\nimport string\nimport re\nimport pandas as pd\nfrom urllib.request import Request, urlopen\nimport lxml\nimport requests\nimport pandas as pd\nimport numpy as np\nimport matplotlib.pyplot as plt\nimport plotly.express as px\nimport seaborn as sns\nfrom sklearn.compose import ColumnTransformer\nfrom sklearn.preprocessing import OrdinalEncoder\nfrom sklearn.preprocessing import StandardScaler\nfrom sklearn.ensemble import RandomForestClassifier\nfrom sklearn.ensemble import GradientBoostingRegressor\nfrom sklearn.model_selection import cross_val_score\nfrom sklearn.model_selection import GridSearchCV\nfrom sklearn.model_selection import RandomizedSearchCV\nfrom sklearn.model_selection import cross_validate\nfrom sklearn.metrics import r2_score\nfrom sklearn.metrics import make_scorer\nfrom sklearn.model_selection import train_test_split\n\nfrom sklearn.feature_selection import RFE\nfrom sklearn.linear_model import LinearRegression\nfrom sklearn.model_selection import train_test_split",
   "execution_count": 10,
   "outputs": []
  },
  {
   "cell_type": "markdown",
   "source": "This piece of code will provide you lyrics from www.lyrics.com for a given artist:",
   "metadata": {
    "tags": [],
    "is_collapsed": false,
    "cell_id": "00001-8c6951e9-a9f5-4c2f-9454-cc649ed0bc9e",
    "deepnote_cell_type": "text-cell-p"
   }
  },
  {
   "cell_type": "code",
   "metadata": {
    "tags": [],
    "cell_id": "00005-f1b89150-1030-4a4f-9c45-4e71db0d7077",
    "deepnote_to_be_reexecuted": false,
    "source_hash": "2a4ac18f",
    "execution_start": 1633094559398,
    "execution_millis": 107605,
    "deepnote_cell_type": "code"
   },
   "source": "#enter the artist's name like this: artist=\"Queen\" or artist = \"The+Beatles\"\n\nartist = \"\" \n\nos.mkdir(f\"/work/{artist}\",mode = 0o666) \n\nurl_0 = \"https://www.lyrics.com/artist/\" + artist\nhtml_0 = requests.get(url_0)\n\nsoup_0 = BeautifulSoup(html_0.text)\n\nraw_url = soup_0.find_all(\"a\", attrs={\"href\":(lambda L: L and L.startswith(\"/lyric/\"))})\n\nfor i in range(100):         # there are doubletons so we collect more than 50 texts\n  str_i = str(raw_url[i])\n  i1 = str_i.find('\"')+1\n  i2 = str_i.find('\"',i1)\n  song_url = \"https://www.lyrics.com\" + str_i[i1:i2]\n  #print(song_url)\n  i1 = song_url.find(artist)\n  i2 = song_url.find('/', i1)+1\n  title =song_url[i2:]\n  f_title = title + \".txt\"\n\n  html_1 = requests.get(song_url)\n  soup_1 = BeautifulSoup(html_1.text)\n  lyric_1 = soup_1.find_all(\"pre\", attrs={\"class\":\"lyric-body\"})\n  os.chdir(f\"/work/{artist}\")\n  try:\n    with open(f_title, \"w\") as f:\n      f.write(lyric_1[0].get_text())\n  except IndexError:\n    pass",
   "outputs": [],
   "execution_count": null
  },
  {
   "cell_type": "markdown",
   "source": "Now&nbsp;the&nbsp;lyrics&nbsp;are&nbsp;stored&nbsp;in&nbsp;folders&nbsp;named&nbsp;after&nbsp;artists. Read&nbsp;them&nbsp;into&nbsp;a&nbsp;dictionary&nbsp;then&nbsp;make&nbsp;a&nbsp;data&nbsp;frame",
   "metadata": {
    "tags": [],
    "is_collapsed": false,
    "cell_id": "00003-a4749e01-c4c7-4d9f-b62e-66cbe556db2f",
    "deepnote_cell_type": "text-cell-p"
   }
  },
  {
   "cell_type": "code",
   "metadata": {
    "tags": [],
    "cell_id": "00007-13212237-dd16-4e61-ad2e-b26997b8d246",
    "deepnote_to_be_reexecuted": false,
    "source_hash": "c9cd2a3a",
    "execution_start": 1633102724809,
    "execution_millis": 363,
    "deepnote_cell_type": "code"
   },
   "source": "artist_list = [\"Madonna\", \"Queen\", \"Sting\", \"The+Beatles\"]\n\ndf_lyrics = pd.DataFrame(columns=['artist'])\n\nfor artist in artist_list:\n    lyrics_dict= {}\n\n    for file_name in os.listdir(f\"/work/{artist}/\"):\n        lyric = open(f\"/work/{artist}/\"+file_name).read()\n        lyrics_dict[lyric] = artist\n    \n    for i in lyrics_dict:\n        df_lyrics.at[i,'artist'] = lyrics_dict.get(i)\n\ndf_lyrics.rename_axis('lyric', inplace=True)\ndf_lyrics.reset_index(inplace=True)\n\ndf_lyrics.head()",
   "execution_count": 11,
   "outputs": [
    {
     "output_type": "execute_result",
     "execution_count": 11,
     "data": {
      "application/vnd.deepnote.dataframe.v2+json": {
       "row_count": 5,
       "column_count": 2,
       "columns": [
        {
         "name": "lyric",
         "dtype": "object",
         "stats": {
          "unique_count": 5,
          "nan_count": 0,
          "categories": [
           {
            "name": "Hey Mister DJ\nPut a record on\nI wanna dance with my baby\n\nHey Mister DJ\nPut a record on\nI wanna dance with my baby\nAnd when the music starts\nI never want to stop\nIt's gonna drive me crazy\n\nMusic, music, music, music\nMusic, music, music, music, music\n\nMusic makes the people come together\nMusic makes the bourgeoisie and the rebel\n\nDon't think of yesterday\nAnd I don't look at the clock\nI like to boogie-woogie, uh, uh\nIt's like riding on the wind\nAnd it never goes away\nTouches everything I'm in\nGot to have it everyday\n\nMusic makes the people come together, yeah\nMusic makes the bourgeoisie and the rebel\n\nHey Mister DJ\n\nHey Mister DJ\nPut a record on\nI wanna dance with my baby\nAnd when the music starts\nI never wanna stop\nIt's gonna drive me crazy\nUh, uh, uh\n\nMusic (music) makes the people (makes the people)\nCome together, yeah\nMusic (music) makes the bourgeoisie (makes the bourgeoisie)\nAnd the rebel",
            "count": 1
           },
           {
            "name": "Woke up this morning feeling that you were gone\nI thought awhile, but I'm finally moving on\nSaid it, did it, hit it, quit it\nThen you let it go\nSee you tryin' to call me, but I blocked you on the phone\nIt took a minute, but now I'm feeling strong\nIt almost killed me, but I'm better off alone\nNow you sayin' that you're sorry, I don't wanna know\nBetter face the fact you had to go\n\nIt might sound like I'm an unapologetic bitch\nBut sometimes you know I gotta call it like it is\nIt might sound like I'm an unapologetic bitch\nBut sometimes you know I gotta call it like it is\nYou know you never really knew how much you loved me 'til you lost me\nDid you?\nYou know you never really knew how much your selfish bullshit cost me\nWell, f*ck you\nIt might sound like I'm an\nIt might sound like I'm an\n\nI know you'd like it if I stayed home and cried\nBut that ain't gonna happen, here's the reason why\nWhen we did it, I'll admit it, wasn't satisfied\nWhen the gun was loaded you were never on my side\nI'm popping bottles that you can't even afford\nI'm throwing parties and you won't get in the door\nSaid it, did it, loved it, hated it\nI don't care no more\nTell me how it feels to be ignored\n\nIt might sound like I'm an unapologetic bitch\nBut sometimes you know I gotta call it like it is\nIt might sound like I'm an unapologetic bitch\nBut sometimes you know I gotta call it like it is\nYou know you never really knew how much you loved me 'til you lost me\nDid you?\nYou know you never really knew how much your selfish bullshit cost me\nWell, f*ck you\nIt might sound like I'm an\nIt might sound like I'm an\n\nYeah yeah yeah woah\nYeah yeah yeah woah\nYeah yeah yeah woah\nYeah yeah yeah woah\n\nIt might sound like I'm an\nIt might sound like I'm an\n\nIt might sound like I'm an unapologetic bitch\nBut sometimes you know I gotta call it like it is\nIt might sound like I'm an unapologetic bitch\nBut sometimes you know I gotta call it like it is\n\nYou know you never really knew how much you loved me, till you lost me?\nDid you?\nYou know you never knew how much your selfish bullshit cost me?\nWell, f*ck you\n\nIt might sound like I'm an unapologetic bitch\nBut sometimes you know I gotta call it like it is\nIt might sound like I'm an unapologetic bitch\nBut sometimes you know I gotta call it like it is\n\nIt might sound like I'm an\nIt might sound like I'm an",
            "count": 1
           },
           {
            "name": "3 others",
            "count": 3
           }
          ]
         }
        },
        {
         "name": "artist",
         "dtype": "object",
         "stats": {
          "unique_count": 1,
          "nan_count": 0,
          "categories": [
           {
            "name": "Madonna",
            "count": 5
           }
          ]
         }
        },
        {
         "name": "_deepnote_index_column",
         "dtype": "int64"
        }
       ],
       "rows_top": [
        {
         "lyric": "Hey Mister DJ\nPut a record on\nI wanna dance with my baby\n\nHey Mister DJ\nPut a record on\nI wanna dan…",
         "artist": "Madonna",
         "_deepnote_index_column": 0
        },
        {
         "lyric": "Woke up this morning feeling that you were gone\nI thought awhile, but I'm finally moving on\nSaid it…",
         "artist": "Madonna",
         "_deepnote_index_column": 1
        },
        {
         "lyric": "Sooner or later you're gonna be mine\nSooner or later you're gonna be fine\nBaby, it's time that you …",
         "artist": "Madonna",
         "_deepnote_index_column": 2
        },
        {
         "lyric": "Who's that girl, who's that girl\n\nWhen you see her, say a prayer and kiss your heart goodbye\nShe's …",
         "artist": "Madonna",
         "_deepnote_index_column": 3
        },
        {
         "lyric": "Drink me up Champagne Rosé (oh, Huncho did it?)\nIt's my game (M-M-M-Murda)\nPlease fill my cup Champ…",
         "artist": "Madonna",
         "_deepnote_index_column": 4
        }
       ],
       "rows_bottom": null
      },
      "text/plain": "                                               lyric   artist\n0  Hey Mister DJ\\nPut a record on\\nI wanna dance ...  Madonna\n1  Woke up this morning feeling that you were gon...  Madonna\n2  Sooner or later you're gonna be mine\\nSooner o...  Madonna\n3  Who's that girl, who's that girl\\n\\nWhen you s...  Madonna\n4  Drink me up Champagne Rosé (oh, Huncho did it?...  Madonna",
      "text/html": "<div>\n<style scoped>\n    .dataframe tbody tr th:only-of-type {\n        vertical-align: middle;\n    }\n\n    .dataframe tbody tr th {\n        vertical-align: top;\n    }\n\n    .dataframe thead th {\n        text-align: right;\n    }\n</style>\n<table border=\"1\" class=\"dataframe\">\n  <thead>\n    <tr style=\"text-align: right;\">\n      <th></th>\n      <th>lyric</th>\n      <th>artist</th>\n    </tr>\n  </thead>\n  <tbody>\n    <tr>\n      <th>0</th>\n      <td>Hey Mister DJ\\nPut a record on\\nI wanna dance ...</td>\n      <td>Madonna</td>\n    </tr>\n    <tr>\n      <th>1</th>\n      <td>Woke up this morning feeling that you were gon...</td>\n      <td>Madonna</td>\n    </tr>\n    <tr>\n      <th>2</th>\n      <td>Sooner or later you're gonna be mine\\nSooner o...</td>\n      <td>Madonna</td>\n    </tr>\n    <tr>\n      <th>3</th>\n      <td>Who's that girl, who's that girl\\n\\nWhen you s...</td>\n      <td>Madonna</td>\n    </tr>\n    <tr>\n      <th>4</th>\n      <td>Drink me up Champagne Rosé (oh, Huncho did it?...</td>\n      <td>Madonna</td>\n    </tr>\n  </tbody>\n</table>\n</div>"
     },
     "metadata": {}
    }
   ]
  },
  {
   "cell_type": "code",
   "source": "def clean_text(text):\n  # get rid of all unwanted punctuation and digits\n  text = text.replace(\"´\", \"'\")\n\n  digi_punct = \"[^a-zA-Z' ]\"\n  text = re.sub(digi_punct, \" \", text)\n  text = \" \".join(text.split())\n  text = text.lower()\n  return text\n\ndf_lyrics['lyric'] = df_lyrics['lyric'].apply(lambda x:clean_text(x))\ndf_lyrics.head()",
   "metadata": {
    "tags": [],
    "cell_id": "00004-2f3f743b-4ee6-4c5b-b100-f8c8f79e61c7",
    "deepnote_to_be_reexecuted": false,
    "source_hash": "81a1002a",
    "execution_start": 1633102733283,
    "execution_millis": 63,
    "deepnote_cell_type": "code"
   },
   "outputs": [
    {
     "output_type": "execute_result",
     "execution_count": 12,
     "data": {
      "application/vnd.deepnote.dataframe.v2+json": {
       "row_count": 5,
       "column_count": 2,
       "columns": [
        {
         "name": "lyric",
         "dtype": "object",
         "stats": {
          "unique_count": 5,
          "nan_count": 0,
          "categories": [
           {
            "name": "hey mister dj put a record on i wanna dance with my baby hey mister dj put a record on i wanna dance with my baby and when the music starts i never want to stop it's gonna drive me crazy music music music music music music music music music music makes the people come together music makes the bourgeoisie and the rebel don't think of yesterday and i don't look at the clock i like to boogie woogie uh uh it's like riding on the wind and it never goes away touches everything i'm in got to have it everyday music makes the people come together yeah music makes the bourgeoisie and the rebel hey mister dj hey mister dj put a record on i wanna dance with my baby and when the music starts i never wanna stop it's gonna drive me crazy uh uh uh music music makes the people makes the people come together yeah music music makes the bourgeoisie makes the bourgeoisie and the rebel",
            "count": 1
           },
           {
            "name": "woke up this morning feeling that you were gone i thought awhile but i'm finally moving on said it did it hit it quit it then you let it go see you tryin' to call me but i blocked you on the phone it took a minute but now i'm feeling strong it almost killed me but i'm better off alone now you sayin' that you're sorry i don't wanna know better face the fact you had to go it might sound like i'm an unapologetic bitch but sometimes you know i gotta call it like it is it might sound like i'm an unapologetic bitch but sometimes you know i gotta call it like it is you know you never really knew how much you loved me 'til you lost me did you you know you never really knew how much your selfish bullshit cost me well f ck you it might sound like i'm an it might sound like i'm an i know you'd like it if i stayed home and cried but that ain't gonna happen here's the reason why when we did it i'll admit it wasn't satisfied when the gun was loaded you were never on my side i'm popping bottles that you can't even afford i'm throwing parties and you won't get in the door said it did it loved it hated it i don't care no more tell me how it feels to be ignored it might sound like i'm an unapologetic bitch but sometimes you know i gotta call it like it is it might sound like i'm an unapologetic bitch but sometimes you know i gotta call it like it is you know you never really knew how much you loved me 'til you lost me did you you know you never really knew how much your selfish bullshit cost me well f ck you it might sound like i'm an it might sound like i'm an yeah yeah yeah woah yeah yeah yeah woah yeah yeah yeah woah yeah yeah yeah woah it might sound like i'm an it might sound like i'm an it might sound like i'm an unapologetic bitch but sometimes you know i gotta call it like it is it might sound like i'm an unapologetic bitch but sometimes you know i gotta call it like it is you know you never really knew how much you loved me till you lost me did you you know you never knew how much your selfish bullshit cost me well f ck you it might sound like i'm an unapologetic bitch but sometimes you know i gotta call it like it is it might sound like i'm an unapologetic bitch but sometimes you know i gotta call it like it is it might sound like i'm an it might sound like i'm an",
            "count": 1
           },
           {
            "name": "3 others",
            "count": 3
           }
          ]
         }
        },
        {
         "name": "artist",
         "dtype": "object",
         "stats": {
          "unique_count": 1,
          "nan_count": 0,
          "categories": [
           {
            "name": "Madonna",
            "count": 5
           }
          ]
         }
        },
        {
         "name": "_deepnote_index_column",
         "dtype": "int64"
        }
       ],
       "rows_top": [
        {
         "lyric": "hey mister dj put a record on i wanna dance with my baby hey mister dj put a record on i wanna danc…",
         "artist": "Madonna",
         "_deepnote_index_column": 0
        },
        {
         "lyric": "woke up this morning feeling that you were gone i thought awhile but i'm finally moving on said it …",
         "artist": "Madonna",
         "_deepnote_index_column": 1
        },
        {
         "lyric": "sooner or later you're gonna be mine sooner or later you're gonna be fine baby it's time that you f…",
         "artist": "Madonna",
         "_deepnote_index_column": 2
        },
        {
         "lyric": "who's that girl who's that girl when you see her say a prayer and kiss your heart goodbye she's tro…",
         "artist": "Madonna",
         "_deepnote_index_column": 3
        },
        {
         "lyric": "drink me up champagne ros oh huncho did it it's my game m m m murda please fill my cup champagne ro…",
         "artist": "Madonna",
         "_deepnote_index_column": 4
        }
       ],
       "rows_bottom": null
      },
      "text/plain": "                                               lyric   artist\n0  hey mister dj put a record on i wanna dance wi...  Madonna\n1  woke up this morning feeling that you were gon...  Madonna\n2  sooner or later you're gonna be mine sooner or...  Madonna\n3  who's that girl who's that girl when you see h...  Madonna\n4  drink me up champagne ros oh huncho did it it'...  Madonna",
      "text/html": "<div>\n<style scoped>\n    .dataframe tbody tr th:only-of-type {\n        vertical-align: middle;\n    }\n\n    .dataframe tbody tr th {\n        vertical-align: top;\n    }\n\n    .dataframe thead th {\n        text-align: right;\n    }\n</style>\n<table border=\"1\" class=\"dataframe\">\n  <thead>\n    <tr style=\"text-align: right;\">\n      <th></th>\n      <th>lyric</th>\n      <th>artist</th>\n    </tr>\n  </thead>\n  <tbody>\n    <tr>\n      <th>0</th>\n      <td>hey mister dj put a record on i wanna dance wi...</td>\n      <td>Madonna</td>\n    </tr>\n    <tr>\n      <th>1</th>\n      <td>woke up this morning feeling that you were gon...</td>\n      <td>Madonna</td>\n    </tr>\n    <tr>\n      <th>2</th>\n      <td>sooner or later you're gonna be mine sooner or...</td>\n      <td>Madonna</td>\n    </tr>\n    <tr>\n      <th>3</th>\n      <td>who's that girl who's that girl when you see h...</td>\n      <td>Madonna</td>\n    </tr>\n    <tr>\n      <th>4</th>\n      <td>drink me up champagne ros oh huncho did it it'...</td>\n      <td>Madonna</td>\n    </tr>\n  </tbody>\n</table>\n</div>"
     },
     "metadata": {}
    }
   ],
   "execution_count": 12
  },
  {
   "cell_type": "code",
   "metadata": {
    "tags": [],
    "cell_id": "00004-34a2a6af-6ef0-4e02-8d4a-d5dbf93048cd",
    "deepnote_to_be_reexecuted": false,
    "source_hash": "3b436773",
    "execution_start": 1633102743615,
    "execution_millis": 285,
    "deepnote_cell_type": "code"
   },
   "source": "import nltk\n#nltk.download('popular')\n\ndef TokenizeWords(text):\n    return (nltk.word_tokenize(text))\n\ndf_lyrics['lyric'] = df_lyrics['lyric'].apply(lambda x:TokenizeWords(x))\n\ndf_lyrics.head()\n",
   "execution_count": 13,
   "outputs": [
    {
     "output_type": "execute_result",
     "execution_count": 13,
     "data": {
      "application/vnd.deepnote.dataframe.v2+json": {
       "row_count": 5,
       "column_count": 2,
       "columns": [
        {
         "name": "lyric",
         "dtype": "object",
         "stats": {
          "unique_count": 5,
          "nan_count": 0,
          "categories": [
           {
            "name": "['hey', 'mister', 'dj', 'put', 'a', 'record', 'on', 'i', 'wan', 'na', 'dance', 'with', 'my', 'baby', 'hey', 'mister', 'dj', 'put', 'a', 'record', 'on', 'i', 'wan', 'na', 'dance', 'with', 'my', 'baby', 'and', 'when', 'the', 'music', 'starts', 'i', 'never', 'want', 'to', 'stop', 'it', \"'s\", 'gon', 'na', 'drive', 'me', 'crazy', 'music', 'music', 'music', 'music', 'music', 'music', 'music', 'music', 'music', 'music', 'makes', 'the', 'people', 'come', 'together', 'music', 'makes', 'the', 'bourgeoisie', 'and', 'the', 'rebel', 'do', \"n't\", 'think', 'of', 'yesterday', 'and', 'i', 'do', \"n't\", 'look', 'at', 'the', 'clock', 'i', 'like', 'to', 'boogie', 'woogie', 'uh', 'uh', 'it', \"'s\", 'like', 'riding', 'on', 'the', 'wind', 'and', 'it', 'never', 'goes', 'away', 'touches', 'everything', 'i', \"'m\", 'in', 'got', 'to', 'have', 'it', 'everyday', 'music', 'makes', 'the', 'people', 'come', 'together', 'yeah', 'music', 'makes', 'the', 'bourgeoisie', 'and', 'the', 'rebel', 'hey', 'mister', 'dj', 'hey', 'mister', 'dj', 'put', 'a', 'record', 'on', 'i', 'wan', 'na', 'dance', 'with', 'my', 'baby', 'and', 'when', 'the', 'music', 'starts', 'i', 'never', 'wan', 'na', 'stop', 'it', \"'s\", 'gon', 'na', 'drive', 'me', 'crazy', 'uh', 'uh', 'uh', 'music', 'music', 'makes', 'the', 'people', 'makes', 'the', 'people', 'come', 'together', 'yeah', 'music', 'music', 'makes', 'the', 'bourgeoisie', 'makes', 'the', 'bourgeoisie', 'and', 'the', 'rebel']",
            "count": 1
           },
           {
            "name": "['woke', 'up', 'this', 'morning', 'feeling', 'that', 'you', 'were', 'gone', 'i', 'thought', 'awhile', 'but', 'i', \"'m\", 'finally', 'moving', 'on', 'said', 'it', 'did', 'it', 'hit', 'it', 'quit', 'it', 'then', 'you', 'let', 'it', 'go', 'see', 'you', 'tryin', \"'\", 'to', 'call', 'me', 'but', 'i', 'blocked', 'you', 'on', 'the', 'phone', 'it', 'took', 'a', 'minute', 'but', 'now', 'i', \"'m\", 'feeling', 'strong', 'it', 'almost', 'killed', 'me', 'but', 'i', \"'m\", 'better', 'off', 'alone', 'now', 'you', 'sayin', \"'\", 'that', 'you', \"'re\", 'sorry', 'i', 'do', \"n't\", 'wan', 'na', 'know', 'better', 'face', 'the', 'fact', 'you', 'had', 'to', 'go', 'it', 'might', 'sound', 'like', 'i', \"'m\", 'an', 'unapologetic', 'bitch', 'but', 'sometimes', 'you', 'know', 'i', 'got', 'ta', 'call', 'it', 'like', 'it', 'is', 'it', 'might', 'sound', 'like', 'i', \"'m\", 'an', 'unapologetic', 'bitch', 'but', 'sometimes', 'you', 'know', 'i', 'got', 'ta', 'call', 'it', 'like', 'it', 'is', 'you', 'know', 'you', 'never', 'really', 'knew', 'how', 'much', 'you', 'loved', 'me', \"'til\", 'you', 'lost', 'me', 'did', 'you', 'you', 'know', 'you', 'never', 'really', 'knew', 'how', 'much', 'your', 'selfish', 'bullshit', 'cost', 'me', 'well', 'f', 'ck', 'you', 'it', 'might', 'sound', 'like', 'i', \"'m\", 'an', 'it', 'might', 'sound', 'like', 'i', \"'m\", 'an', 'i', 'know', 'you', \"'d\", 'like', 'it', 'if', 'i', 'stayed', 'home', 'and', 'cried', 'but', 'that', 'ai', \"n't\", 'gon', 'na', 'happen', 'here', \"'s\", 'the', 'reason', 'why', 'when', 'we', 'did', 'it', 'i', \"'ll\", 'admit', 'it', 'was', \"n't\", 'satisfied', 'when', 'the', 'gun', 'was', 'loaded', 'you', 'were', 'never', 'on', 'my', 'side', 'i', \"'m\", 'popping', 'bottles', 'that', 'you', 'ca', \"n't\", 'even', 'afford', 'i', \"'m\", 'throwing', 'parties', 'and', 'you', 'wo', \"n't\", 'get', 'in', 'the', 'door', 'said', 'it', 'did', 'it', 'loved', 'it', 'hated', 'it', 'i', 'do', \"n't\", 'care', 'no', 'more', 'tell', 'me', 'how', 'it', 'feels', 'to', 'be', 'ignored', 'it', 'might', 'sound', 'like', 'i', \"'m\", 'an', 'unapologetic', 'bitch', 'but', 'sometimes', 'you', 'know', 'i', 'got', 'ta', 'call', 'it', 'like', 'it', 'is', 'it', 'might', 'sound', 'like', 'i', \"'m\", 'an', 'unapologetic', 'bitch', 'but', 'sometimes', 'you', 'know', 'i', 'got', 'ta', 'call', 'it', 'like', 'it', 'is', 'you', 'know', 'you', 'never', 'really', 'knew', 'how', 'much', 'you', 'loved', 'me', \"'til\", 'you', 'lost', 'me', 'did', 'you', 'you', 'know', 'you', 'never', 'really', 'knew', 'how', 'much', 'your', 'selfish', 'bullshit', 'cost', 'me', 'well', 'f', 'ck', 'you', 'it', 'might', 'sound', 'like', 'i', \"'m\", 'an', 'it', 'might', 'sound', 'like', 'i', \"'m\", 'an', 'yeah', 'yeah', 'yeah', 'woah', 'yeah', 'yeah', 'yeah', 'woah', 'yeah', 'yeah', 'yeah', 'woah', 'yeah', 'yeah', 'yeah', 'woah', 'it', 'might', 'sound', 'like', 'i', \"'m\", 'an', 'it', 'might', 'sound', 'like', 'i', \"'m\", 'an', 'it', 'might', 'sound', 'like', 'i', \"'m\", 'an', 'unapologetic', 'bitch', 'but', 'sometimes', 'you', 'know', 'i', 'got', 'ta', 'call', 'it', 'like', 'it', 'is', 'it', 'might', 'sound', 'like', 'i', \"'m\", 'an', 'unapologetic', 'bitch', 'but', 'sometimes', 'you', 'know', 'i', 'got', 'ta', 'call', 'it', 'like', 'it', 'is', 'you', 'know', 'you', 'never', 'really', 'knew', 'how', 'much', 'you', 'loved', 'me', 'till', 'you', 'lost', 'me', 'did', 'you', 'you', 'know', 'you', 'never', 'knew', 'how', 'much', 'your', 'selfish', 'bullshit', 'cost', 'me', 'well', 'f', 'ck', 'you', 'it', 'might', 'sound', 'like', 'i', \"'m\", 'an', 'unapologetic', 'bitch', 'but', 'sometimes', 'you', 'know', 'i', 'got', 'ta', 'call', 'it', 'like', 'it', 'is', 'it', 'might', 'sound', 'like', 'i', \"'m\", 'an', 'unapologetic', 'bitch', 'but', 'sometimes', 'you', 'know', 'i', 'got', 'ta', 'call', 'it', 'like', 'it', 'is', 'it', 'might', 'sound', 'like', 'i', \"'m\", 'an', 'it', 'might', 'sound', 'like', 'i', \"'m\", 'an']",
            "count": 1
           },
           {
            "name": "3 others",
            "count": 3
           }
          ]
         }
        },
        {
         "name": "artist",
         "dtype": "object",
         "stats": {
          "unique_count": 1,
          "nan_count": 0,
          "categories": [
           {
            "name": "Madonna",
            "count": 5
           }
          ]
         }
        },
        {
         "name": "_deepnote_index_column",
         "dtype": "int64"
        }
       ],
       "rows_top": [
        {
         "lyric": "['hey', 'mister', 'dj', 'put', 'a', 'record', 'on', 'i', 'wan', 'na', 'dance', 'with', 'my', 'baby'…",
         "artist": "Madonna",
         "_deepnote_index_column": 0
        },
        {
         "lyric": "['woke', 'up', 'this', 'morning', 'feeling', 'that', 'you', 'were', 'gone', 'i', 'thought', 'awhile…",
         "artist": "Madonna",
         "_deepnote_index_column": 1
        },
        {
         "lyric": "['sooner', 'or', 'later', 'you', \"'re\", 'gon', 'na', 'be', 'mine', 'sooner', 'or', 'later', 'you', …",
         "artist": "Madonna",
         "_deepnote_index_column": 2
        },
        {
         "lyric": "['who', \"'s\", 'that', 'girl', 'who', \"'s\", 'that', 'girl', 'when', 'you', 'see', 'her', 'say', 'a',…",
         "artist": "Madonna",
         "_deepnote_index_column": 3
        },
        {
         "lyric": "['drink', 'me', 'up', 'champagne', 'ros', 'oh', 'huncho', 'did', 'it', 'it', \"'s\", 'my', 'game', 'm…",
         "artist": "Madonna",
         "_deepnote_index_column": 4
        }
       ],
       "rows_bottom": null
      },
      "text/plain": "                                               lyric   artist\n0  [hey, mister, dj, put, a, record, on, i, wan, ...  Madonna\n1  [woke, up, this, morning, feeling, that, you, ...  Madonna\n2  [sooner, or, later, you, 're, gon, na, be, min...  Madonna\n3  [who, 's, that, girl, who, 's, that, girl, whe...  Madonna\n4  [drink, me, up, champagne, ros, oh, huncho, di...  Madonna",
      "text/html": "<div>\n<style scoped>\n    .dataframe tbody tr th:only-of-type {\n        vertical-align: middle;\n    }\n\n    .dataframe tbody tr th {\n        vertical-align: top;\n    }\n\n    .dataframe thead th {\n        text-align: right;\n    }\n</style>\n<table border=\"1\" class=\"dataframe\">\n  <thead>\n    <tr style=\"text-align: right;\">\n      <th></th>\n      <th>lyric</th>\n      <th>artist</th>\n    </tr>\n  </thead>\n  <tbody>\n    <tr>\n      <th>0</th>\n      <td>[hey, mister, dj, put, a, record, on, i, wan, ...</td>\n      <td>Madonna</td>\n    </tr>\n    <tr>\n      <th>1</th>\n      <td>[woke, up, this, morning, feeling, that, you, ...</td>\n      <td>Madonna</td>\n    </tr>\n    <tr>\n      <th>2</th>\n      <td>[sooner, or, later, you, 're, gon, na, be, min...</td>\n      <td>Madonna</td>\n    </tr>\n    <tr>\n      <th>3</th>\n      <td>[who, 's, that, girl, who, 's, that, girl, whe...</td>\n      <td>Madonna</td>\n    </tr>\n    <tr>\n      <th>4</th>\n      <td>[drink, me, up, champagne, ros, oh, huncho, di...</td>\n      <td>Madonna</td>\n    </tr>\n  </tbody>\n</table>\n</div>"
     },
     "metadata": {}
    }
   ]
  },
  {
   "cell_type": "code",
   "source": "!pip install spacy\nimport spacy\n# Import of English rules\nnlp = spacy.load('en_core_web_sm')",
   "metadata": {
    "tags": [],
    "cell_id": "00007-dbe2fc3a-45d2-4b48-a925-3ce8f1b5d6b7",
    "deepnote_to_be_reexecuted": false,
    "source_hash": "bd7f3736",
    "execution_start": 1633102791823,
    "execution_millis": 4179,
    "deepnote_cell_type": "code"
   },
   "outputs": [
    {
     "name": "stdout",
     "text": "Requirement already satisfied: spacy in /shared-libs/python3.7/py/lib/python3.7/site-packages (3.1.3)\nRequirement already satisfied: murmurhash<1.1.0,>=0.28.0 in /shared-libs/python3.7/py/lib/python3.7/site-packages (from spacy) (1.0.5)\nRequirement already satisfied: catalogue<2.1.0,>=2.0.6 in /shared-libs/python3.7/py/lib/python3.7/site-packages (from spacy) (2.0.6)\nRequirement already satisfied: thinc<8.1.0,>=8.0.9 in /shared-libs/python3.7/py/lib/python3.7/site-packages (from spacy) (8.0.10)\nRequirement already satisfied: blis<0.8.0,>=0.4.0 in /shared-libs/python3.7/py/lib/python3.7/site-packages (from spacy) (0.7.4)\nRequirement already satisfied: pydantic!=1.8,!=1.8.1,<1.9.0,>=1.7.4 in /shared-libs/python3.7/py/lib/python3.7/site-packages (from spacy) (1.8.2)\nRequirement already satisfied: preshed<3.1.0,>=3.0.2 in /shared-libs/python3.7/py/lib/python3.7/site-packages (from spacy) (3.0.5)\nRequirement already satisfied: spacy-legacy<3.1.0,>=3.0.8 in /shared-libs/python3.7/py/lib/python3.7/site-packages (from spacy) (3.0.8)\nRequirement already satisfied: typer<0.5.0,>=0.3.0 in /shared-libs/python3.7/py/lib/python3.7/site-packages (from spacy) (0.4.0)\nRequirement already satisfied: jinja2 in /shared-libs/python3.7/py-core/lib/python3.7/site-packages (from spacy) (3.0.1)\nRequirement already satisfied: wasabi<1.1.0,>=0.8.1 in /shared-libs/python3.7/py/lib/python3.7/site-packages (from spacy) (0.8.2)\nRequirement already satisfied: srsly<3.0.0,>=2.4.1 in /shared-libs/python3.7/py/lib/python3.7/site-packages (from spacy) (2.4.1)\nRequirement already satisfied: setuptools in /root/venv/lib/python3.7/site-packages (from spacy) (58.0.4)\nRequirement already satisfied: tqdm<5.0.0,>=4.38.0 in /shared-libs/python3.7/py/lib/python3.7/site-packages (from spacy) (4.62.3)\nRequirement already satisfied: typing-extensions<4.0.0.0,>=3.7.4 in /shared-libs/python3.7/py-core/lib/python3.7/site-packages (from spacy) (3.10.0.2)\nRequirement already satisfied: numpy>=1.15.0 in /shared-libs/python3.7/py/lib/python3.7/site-packages (from spacy) (1.19.5)\nRequirement already satisfied: packaging>=20.0 in /shared-libs/python3.7/py-core/lib/python3.7/site-packages (from spacy) (21.0)\nRequirement already satisfied: cymem<2.1.0,>=2.0.2 in /shared-libs/python3.7/py/lib/python3.7/site-packages (from spacy) (2.0.5)\nRequirement already satisfied: requests<3.0.0,>=2.13.0 in /shared-libs/python3.7/py/lib/python3.7/site-packages (from spacy) (2.26.0)\nRequirement already satisfied: pathy>=0.3.5 in /shared-libs/python3.7/py/lib/python3.7/site-packages (from spacy) (0.6.0)\nRequirement already satisfied: zipp>=0.5 in /shared-libs/python3.7/py-core/lib/python3.7/site-packages (from catalogue<2.1.0,>=2.0.6->spacy) (3.5.0)\nRequirement already satisfied: pyparsing>=2.0.2 in /shared-libs/python3.7/py-core/lib/python3.7/site-packages (from packaging>=20.0->spacy) (2.4.7)\nRequirement already satisfied: smart-open<6.0.0,>=5.0.0 in /shared-libs/python3.7/py/lib/python3.7/site-packages (from pathy>=0.3.5->spacy) (5.2.1)\nRequirement already satisfied: certifi>=2017.4.17 in /shared-libs/python3.7/py/lib/python3.7/site-packages (from requests<3.0.0,>=2.13.0->spacy) (2021.5.30)\nRequirement already satisfied: idna<4,>=2.5 in /shared-libs/python3.7/py-core/lib/python3.7/site-packages (from requests<3.0.0,>=2.13.0->spacy) (3.2)\nRequirement already satisfied: charset-normalizer~=2.0.0 in /shared-libs/python3.7/py/lib/python3.7/site-packages (from requests<3.0.0,>=2.13.0->spacy) (2.0.6)\nRequirement already satisfied: urllib3<1.27,>=1.21.1 in /shared-libs/python3.7/py/lib/python3.7/site-packages (from requests<3.0.0,>=2.13.0->spacy) (1.26.7)\nRequirement already satisfied: click<9.0.0,>=7.1.1 in /shared-libs/python3.7/py/lib/python3.7/site-packages (from typer<0.5.0,>=0.3.0->spacy) (8.0.1)\nRequirement already satisfied: importlib-metadata in /shared-libs/python3.7/py-core/lib/python3.7/site-packages (from click<9.0.0,>=7.1.1->typer<0.5.0,>=0.3.0->spacy) (4.8.1)\nRequirement already satisfied: MarkupSafe>=2.0 in /shared-libs/python3.7/py-core/lib/python3.7/site-packages (from jinja2->spacy) (2.0.1)\n",
     "output_type": "stream"
    },
    {
     "output_type": "error",
     "ename": "OSError",
     "evalue": "[E050] Can't find model 'en_core_web_sm'. It doesn't seem to be a Python package or a valid path to a data directory.",
     "traceback": [
      "\u001b[0;31m---------------------------------------------------------------------------\u001b[0m",
      "\u001b[0;31mOSError\u001b[0m                                   Traceback (most recent call last)",
      "\u001b[0;32m/tmp/ipykernel_456/1204580133.py\u001b[0m in \u001b[0;36m<module>\u001b[0;34m\u001b[0m\n\u001b[1;32m      2\u001b[0m \u001b[0;32mimport\u001b[0m \u001b[0mspacy\u001b[0m\u001b[0;34m\u001b[0m\u001b[0;34m\u001b[0m\u001b[0m\n\u001b[1;32m      3\u001b[0m \u001b[0;31m# Import of English rules\u001b[0m\u001b[0;34m\u001b[0m\u001b[0;34m\u001b[0m\u001b[0;34m\u001b[0m\u001b[0m\n\u001b[0;32m----> 4\u001b[0;31m \u001b[0mnlp\u001b[0m \u001b[0;34m=\u001b[0m \u001b[0mspacy\u001b[0m\u001b[0;34m.\u001b[0m\u001b[0mload\u001b[0m\u001b[0;34m(\u001b[0m\u001b[0;34m'en_core_web_sm'\u001b[0m\u001b[0;34m)\u001b[0m\u001b[0;34m\u001b[0m\u001b[0;34m\u001b[0m\u001b[0m\n\u001b[0m",
      "\u001b[0;32m/shared-libs/python3.7/py/lib/python3.7/site-packages/spacy/__init__.py\u001b[0m in \u001b[0;36mload\u001b[0;34m(name, vocab, disable, exclude, config)\u001b[0m\n\u001b[1;32m     50\u001b[0m     \"\"\"\n\u001b[1;32m     51\u001b[0m     return util.load_model(\n\u001b[0;32m---> 52\u001b[0;31m         \u001b[0mname\u001b[0m\u001b[0;34m,\u001b[0m \u001b[0mvocab\u001b[0m\u001b[0;34m=\u001b[0m\u001b[0mvocab\u001b[0m\u001b[0;34m,\u001b[0m \u001b[0mdisable\u001b[0m\u001b[0;34m=\u001b[0m\u001b[0mdisable\u001b[0m\u001b[0;34m,\u001b[0m \u001b[0mexclude\u001b[0m\u001b[0;34m=\u001b[0m\u001b[0mexclude\u001b[0m\u001b[0;34m,\u001b[0m \u001b[0mconfig\u001b[0m\u001b[0;34m=\u001b[0m\u001b[0mconfig\u001b[0m\u001b[0;34m\u001b[0m\u001b[0;34m\u001b[0m\u001b[0m\n\u001b[0m\u001b[1;32m     53\u001b[0m     )\n\u001b[1;32m     54\u001b[0m \u001b[0;34m\u001b[0m\u001b[0m\n",
      "\u001b[0;32m/shared-libs/python3.7/py/lib/python3.7/site-packages/spacy/util.py\u001b[0m in \u001b[0;36mload_model\u001b[0;34m(name, vocab, disable, exclude, config)\u001b[0m\n\u001b[1;32m    352\u001b[0m     \u001b[0;32mif\u001b[0m \u001b[0mname\u001b[0m \u001b[0;32min\u001b[0m \u001b[0mOLD_MODEL_SHORTCUTS\u001b[0m\u001b[0;34m:\u001b[0m\u001b[0;34m\u001b[0m\u001b[0;34m\u001b[0m\u001b[0m\n\u001b[1;32m    353\u001b[0m         \u001b[0;32mraise\u001b[0m \u001b[0mIOError\u001b[0m\u001b[0;34m(\u001b[0m\u001b[0mErrors\u001b[0m\u001b[0;34m.\u001b[0m\u001b[0mE941\u001b[0m\u001b[0;34m.\u001b[0m\u001b[0mformat\u001b[0m\u001b[0;34m(\u001b[0m\u001b[0mname\u001b[0m\u001b[0;34m=\u001b[0m\u001b[0mname\u001b[0m\u001b[0;34m,\u001b[0m \u001b[0mfull\u001b[0m\u001b[0;34m=\u001b[0m\u001b[0mOLD_MODEL_SHORTCUTS\u001b[0m\u001b[0;34m[\u001b[0m\u001b[0mname\u001b[0m\u001b[0;34m]\u001b[0m\u001b[0;34m)\u001b[0m\u001b[0;34m)\u001b[0m\u001b[0;34m\u001b[0m\u001b[0;34m\u001b[0m\u001b[0m\n\u001b[0;32m--> 354\u001b[0;31m     \u001b[0;32mraise\u001b[0m \u001b[0mIOError\u001b[0m\u001b[0;34m(\u001b[0m\u001b[0mErrors\u001b[0m\u001b[0;34m.\u001b[0m\u001b[0mE050\u001b[0m\u001b[0;34m.\u001b[0m\u001b[0mformat\u001b[0m\u001b[0;34m(\u001b[0m\u001b[0mname\u001b[0m\u001b[0;34m=\u001b[0m\u001b[0mname\u001b[0m\u001b[0;34m)\u001b[0m\u001b[0;34m)\u001b[0m\u001b[0;34m\u001b[0m\u001b[0;34m\u001b[0m\u001b[0m\n\u001b[0m\u001b[1;32m    355\u001b[0m \u001b[0;34m\u001b[0m\u001b[0m\n\u001b[1;32m    356\u001b[0m \u001b[0;34m\u001b[0m\u001b[0m\n",
      "\u001b[0;31mOSError\u001b[0m: [E050] Can't find model 'en_core_web_sm'. It doesn't seem to be a Python package or a valid path to a data directory."
     ]
    }
   ],
   "execution_count": 15
  },
  {
   "cell_type": "code",
   "metadata": {
    "tags": [],
    "cell_id": "00004-302999a8-0ad2-4f36-b118-b26a9e546c2a",
    "deepnote_to_be_reexecuted": false,
    "source_hash": "88055655",
    "execution_start": 1633102504433,
    "execution_millis": 7813,
    "deepnote_cell_type": "code"
   },
   "source": "# additional data cleaning: remove stopwords, lemmatize afterwards\n\nfrom nltk.corpus import stopwords\nfrom nltk.stem import WordNetLemmatizer\nfrom nltk.stem import PorterStemmer\nnltk.download('wordnet')\n\nstpwrds_list = list(stopwords.words(\"english\"))\next_list = list(\"?!.,;'´()\") + \\\n['\"', \"''\", \"``\", \"'s\", \"I\", \"'ll\", \"'m\", \"'re\",\"'ve\", \"'nt\", \"n't\",\"'d\"]\n\nlemmatizer = WordNetLemmatizer()\n\nfor i in range(len(df_lyrics)):\n    word_list_0 = df_lyrics['lyric'][i]\n    word_list_1 = []\n    for w in word_list_0:\n        w_lower = w.lower()\n        if w_lower not in (stpwrds_list + ext_list):\n            #w_ = lemmatizer.lemmatize(w_lower, pos=\"a\")\n            #w_ = lemmatizer.lemmatize(w_, pos=\"v\")\n            #w_ = lemmatizer.lemmatize(w_, pos=\"n\")\n            w_ = nlp(w_lower).lemma_\n            \n            word_list_1.append(w_)\n   \n    df_lyrics['lyric'][i] = word_list_1\n\ndf_lyrics.head()",
   "execution_count": 7,
   "outputs": [
    {
     "name": "stderr",
     "text": "[nltk_data] Downloading package wordnet to /root/nltk_data...\n[nltk_data]   Package wordnet is already up-to-date!\n2021-10-01 15:35:06.472882: W tensorflow/stream_executor/platform/default/dso_loader.cc:60] Could not load dynamic library 'libcudart.so.11.0'; dlerror: libcudart.so.11.0: cannot open shared object file: No such file or directory\n2021-10-01 15:35:06.472938: I tensorflow/stream_executor/cuda/cudart_stub.cc:29] Ignore above cudart dlerror if you do not have a GPU set up on your machine.\n",
     "output_type": "stream"
    },
    {
     "output_type": "error",
     "ename": "OSError",
     "evalue": "[E050] Can't find model 'en_core_web_sm'. It doesn't seem to be a Python package or a valid path to a data directory.",
     "traceback": [
      "\u001b[0;31m---------------------------------------------------------------------------\u001b[0m",
      "\u001b[0;31mOSError\u001b[0m                                   Traceback (most recent call last)",
      "\u001b[0;32m/tmp/ipykernel_456/2096852829.py\u001b[0m in \u001b[0;36m<module>\u001b[0;34m\u001b[0m\n\u001b[1;32m      8\u001b[0m \u001b[0;32mimport\u001b[0m \u001b[0mspacy\u001b[0m\u001b[0;34m\u001b[0m\u001b[0;34m\u001b[0m\u001b[0m\n\u001b[1;32m      9\u001b[0m \u001b[0;31m# Import of English rules\u001b[0m\u001b[0;34m\u001b[0m\u001b[0;34m\u001b[0m\u001b[0;34m\u001b[0m\u001b[0m\n\u001b[0;32m---> 10\u001b[0;31m \u001b[0mnlp\u001b[0m \u001b[0;34m=\u001b[0m \u001b[0mspacy\u001b[0m\u001b[0;34m.\u001b[0m\u001b[0mload\u001b[0m\u001b[0;34m(\u001b[0m\u001b[0;34m'en_core_web_sm'\u001b[0m\u001b[0;34m)\u001b[0m\u001b[0;34m\u001b[0m\u001b[0;34m\u001b[0m\u001b[0m\n\u001b[0m\u001b[1;32m     11\u001b[0m \u001b[0;34m\u001b[0m\u001b[0m\n\u001b[1;32m     12\u001b[0m \u001b[0mstpwrds_list\u001b[0m \u001b[0;34m=\u001b[0m \u001b[0mlist\u001b[0m\u001b[0;34m(\u001b[0m\u001b[0mstopwords\u001b[0m\u001b[0;34m.\u001b[0m\u001b[0mwords\u001b[0m\u001b[0;34m(\u001b[0m\u001b[0;34m\"english\"\u001b[0m\u001b[0;34m)\u001b[0m\u001b[0;34m)\u001b[0m\u001b[0;34m\u001b[0m\u001b[0;34m\u001b[0m\u001b[0m\n",
      "\u001b[0;32m/shared-libs/python3.7/py/lib/python3.7/site-packages/spacy/__init__.py\u001b[0m in \u001b[0;36mload\u001b[0;34m(name, vocab, disable, exclude, config)\u001b[0m\n\u001b[1;32m     50\u001b[0m     \"\"\"\n\u001b[1;32m     51\u001b[0m     return util.load_model(\n\u001b[0;32m---> 52\u001b[0;31m         \u001b[0mname\u001b[0m\u001b[0;34m,\u001b[0m \u001b[0mvocab\u001b[0m\u001b[0;34m=\u001b[0m\u001b[0mvocab\u001b[0m\u001b[0;34m,\u001b[0m \u001b[0mdisable\u001b[0m\u001b[0;34m=\u001b[0m\u001b[0mdisable\u001b[0m\u001b[0;34m,\u001b[0m \u001b[0mexclude\u001b[0m\u001b[0;34m=\u001b[0m\u001b[0mexclude\u001b[0m\u001b[0;34m,\u001b[0m \u001b[0mconfig\u001b[0m\u001b[0;34m=\u001b[0m\u001b[0mconfig\u001b[0m\u001b[0;34m\u001b[0m\u001b[0;34m\u001b[0m\u001b[0m\n\u001b[0m\u001b[1;32m     53\u001b[0m     )\n\u001b[1;32m     54\u001b[0m \u001b[0;34m\u001b[0m\u001b[0m\n",
      "\u001b[0;32m/shared-libs/python3.7/py/lib/python3.7/site-packages/spacy/util.py\u001b[0m in \u001b[0;36mload_model\u001b[0;34m(name, vocab, disable, exclude, config)\u001b[0m\n\u001b[1;32m    352\u001b[0m     \u001b[0;32mif\u001b[0m \u001b[0mname\u001b[0m \u001b[0;32min\u001b[0m \u001b[0mOLD_MODEL_SHORTCUTS\u001b[0m\u001b[0;34m:\u001b[0m\u001b[0;34m\u001b[0m\u001b[0;34m\u001b[0m\u001b[0m\n\u001b[1;32m    353\u001b[0m         \u001b[0;32mraise\u001b[0m \u001b[0mIOError\u001b[0m\u001b[0;34m(\u001b[0m\u001b[0mErrors\u001b[0m\u001b[0;34m.\u001b[0m\u001b[0mE941\u001b[0m\u001b[0;34m.\u001b[0m\u001b[0mformat\u001b[0m\u001b[0;34m(\u001b[0m\u001b[0mname\u001b[0m\u001b[0;34m=\u001b[0m\u001b[0mname\u001b[0m\u001b[0;34m,\u001b[0m \u001b[0mfull\u001b[0m\u001b[0;34m=\u001b[0m\u001b[0mOLD_MODEL_SHORTCUTS\u001b[0m\u001b[0;34m[\u001b[0m\u001b[0mname\u001b[0m\u001b[0;34m]\u001b[0m\u001b[0;34m)\u001b[0m\u001b[0;34m)\u001b[0m\u001b[0;34m\u001b[0m\u001b[0;34m\u001b[0m\u001b[0m\n\u001b[0;32m--> 354\u001b[0;31m     \u001b[0;32mraise\u001b[0m \u001b[0mIOError\u001b[0m\u001b[0;34m(\u001b[0m\u001b[0mErrors\u001b[0m\u001b[0;34m.\u001b[0m\u001b[0mE050\u001b[0m\u001b[0;34m.\u001b[0m\u001b[0mformat\u001b[0m\u001b[0;34m(\u001b[0m\u001b[0mname\u001b[0m\u001b[0;34m=\u001b[0m\u001b[0mname\u001b[0m\u001b[0;34m)\u001b[0m\u001b[0;34m)\u001b[0m\u001b[0;34m\u001b[0m\u001b[0;34m\u001b[0m\u001b[0m\n\u001b[0m\u001b[1;32m    355\u001b[0m \u001b[0;34m\u001b[0m\u001b[0m\n\u001b[1;32m    356\u001b[0m \u001b[0;34m\u001b[0m\u001b[0m\n",
      "\u001b[0;31mOSError\u001b[0m: [E050] Can't find model 'en_core_web_sm'. It doesn't seem to be a Python package or a valid path to a data directory."
     ]
    }
   ]
  },
  {
   "cell_type": "code",
   "source": "df_lyrics",
   "metadata": {
    "tags": [],
    "cell_id": "00008-91440b49-5681-437a-b682-3103ce4c4f12",
    "deepnote_to_be_reexecuted": false,
    "source_hash": "e062dfa5",
    "execution_start": 1633102455327,
    "execution_millis": 161,
    "deepnote_cell_type": "code"
   },
   "outputs": [
    {
     "output_type": "error",
     "ename": "NameError",
     "evalue": "name 'df_lyrics' is not defined",
     "traceback": [
      "\u001b[0;31m---------------------------------------------------------------------------\u001b[0m",
      "\u001b[0;31mNameError\u001b[0m                                 Traceback (most recent call last)",
      "\u001b[0;32m/tmp/ipykernel_456/3111075336.py\u001b[0m in \u001b[0;36m<module>\u001b[0;34m\u001b[0m\n\u001b[0;32m----> 1\u001b[0;31m \u001b[0mdf_lyrics\u001b[0m\u001b[0;34m\u001b[0m\u001b[0;34m\u001b[0m\u001b[0m\n\u001b[0m",
      "\u001b[0;31mNameError\u001b[0m: name 'df_lyrics' is not defined"
     ]
    }
   ],
   "execution_count": 1
  },
  {
   "cell_type": "code",
   "source": "#transform lists of strings (single words) into one joined string having a space between the words\n\ndf_lyrics['lyric'] = df_lyrics['lyric'].apply(lambda x: ' '.join(x))\ndf_lyrics.head()",
   "metadata": {
    "tags": [],
    "cell_id": "00009-5059ab9e-3600-4416-9f70-811f23060124",
    "deepnote_to_be_reexecuted": false,
    "source_hash": "d19ddfe3",
    "execution_start": 1633097014605,
    "execution_millis": 8,
    "deepnote_cell_type": "code"
   },
   "outputs": [
    {
     "output_type": "execute_result",
     "execution_count": 22,
     "data": {
      "application/vnd.deepnote.dataframe.v2+json": {
       "row_count": 5,
       "column_count": 2,
       "columns": [
        {
         "name": "lyric",
         "dtype": "object",
         "stats": {
          "unique_count": 5,
          "nan_count": 0,
          "categories": [
           {
            "name": "hey mister dj put record wan na dance baby hey mister dj put record wan na dance baby music start never want stop gon na drive crazy music music music music music music music music music music make people come together music make bourgeoisie rebel think yesterday look clock like boogie woogie uh uh like rid wind never go away touch everything get everyday music make people come together yeah music make bourgeoisie rebel hey mister dj hey mister dj put record wan na dance baby music start never wan na stop gon na drive crazy uh uh uh music music make people make people come together yeah music music make bourgeoisie make bourgeoisie rebel",
            "count": 1
           },
           {
            "name": "wake morning feel go think awhile finally move say hit quit let go see tryin call block phone take minute feel strong almost kill good alone sayin sorry wan na know good face fact go might sound like unapologetic bitch sometimes know get ta call like might sound like unapologetic bitch sometimes know get ta call like know never really know much love 'til lose know never really know much selfish bullshit cost well f ck might sound like might sound like know like stay home cry ai gon na happen reason admit satisfy gun load never side pop bottle ca even afford throw party wo get door say love hat care tell feel ignore might sound like unapologetic bitch sometimes know get ta call like might sound like unapologetic bitch sometimes know get ta call like know never really know much love 'til lose know never really know much selfish bullshit cost well f ck might sound like might sound like yeah yeah yeah woah yeah yeah yeah woah yeah yeah yeah woah yeah yeah yeah woah might sound like might sound like might sound like unapologetic bitch sometimes know get ta call like might sound like unapologetic bitch sometimes know get ta call like know never really know much love till lose know never know much selfish bullshit cost well f ck might sound like unapologetic bitch sometimes know get ta call like might sound like unapologetic bitch sometimes know get ta call like might sound like might sound like",
            "count": 1
           },
           {
            "name": "3 others",
            "count": 3
           }
          ]
         }
        },
        {
         "name": "artist",
         "dtype": "object",
         "stats": {
          "unique_count": 1,
          "nan_count": 0,
          "categories": [
           {
            "name": "Madonna",
            "count": 5
           }
          ]
         }
        },
        {
         "name": "_deepnote_index_column",
         "dtype": "int64"
        }
       ],
       "rows_top": [
        {
         "lyric": "hey mister dj put record wan na dance baby hey mister dj put record wan na dance baby music start n…",
         "artist": "Madonna",
         "_deepnote_index_column": 0
        },
        {
         "lyric": "wake morning feel go think awhile finally move say hit quit let go see tryin call block phone take …",
         "artist": "Madonna",
         "_deepnote_index_column": 1
        },
        {
         "lyric": "sooner late gon na mine sooner late gon na fine baby time face always get man sooner late gon na de…",
         "artist": "Madonna",
         "_deepnote_index_column": 2
        },
        {
         "lyric": "girl girl see say prayer kiss heart goodbye trouble word get close fire run fast laughter burn insi…",
         "artist": "Madonna",
         "_deepnote_index_column": 3
        },
        {
         "lyric": "drink champagne ro oh huncho game murda please fill cup champagne ro yeah name please drink champag…",
         "artist": "Madonna",
         "_deepnote_index_column": 4
        }
       ],
       "rows_bottom": null
      },
      "text/plain": "                                               lyric   artist\n0  hey mister dj put record wan na dance baby hey...  Madonna\n1  wake morning feel go think awhile finally move...  Madonna\n2  sooner late gon na mine sooner late gon na fin...  Madonna\n3  girl girl see say prayer kiss heart goodbye tr...  Madonna\n4  drink champagne ro oh huncho game murda please...  Madonna",
      "text/html": "<div>\n<style scoped>\n    .dataframe tbody tr th:only-of-type {\n        vertical-align: middle;\n    }\n\n    .dataframe tbody tr th {\n        vertical-align: top;\n    }\n\n    .dataframe thead th {\n        text-align: right;\n    }\n</style>\n<table border=\"1\" class=\"dataframe\">\n  <thead>\n    <tr style=\"text-align: right;\">\n      <th></th>\n      <th>lyric</th>\n      <th>artist</th>\n    </tr>\n  </thead>\n  <tbody>\n    <tr>\n      <th>0</th>\n      <td>hey mister dj put record wan na dance baby hey...</td>\n      <td>Madonna</td>\n    </tr>\n    <tr>\n      <th>1</th>\n      <td>wake morning feel go think awhile finally move...</td>\n      <td>Madonna</td>\n    </tr>\n    <tr>\n      <th>2</th>\n      <td>sooner late gon na mine sooner late gon na fin...</td>\n      <td>Madonna</td>\n    </tr>\n    <tr>\n      <th>3</th>\n      <td>girl girl see say prayer kiss heart goodbye tr...</td>\n      <td>Madonna</td>\n    </tr>\n    <tr>\n      <th>4</th>\n      <td>drink champagne ro oh huncho game murda please...</td>\n      <td>Madonna</td>\n    </tr>\n  </tbody>\n</table>\n</div>"
     },
     "metadata": {}
    }
   ],
   "execution_count": null
  },
  {
   "cell_type": "code",
   "source": "X_remain, X_test, y_remain, y_test = train_test_split(df_lyrics[\"lyric\"],\n                                                    df_lyrics[\"artist\"],\n                                                    test_size=0.2,\n                                                    random_state=42)\n\n\nX_train, X_val, y_train, y_val = train_test_split(X_remain, y_remain,\n                                                    test_size=0.2,\n                                                    random_state=42)\n\n\ntop = [X_remain, X_test, y_remain, y_test, X_train, X_val, y_train, y_val]\nfor x in top:\n    print(x.shape)",
   "metadata": {
    "tags": [],
    "cell_id": "00009-e16308bd-f6a6-4f83-982c-742514016282",
    "deepnote_to_be_reexecuted": false,
    "source_hash": "720d91b3",
    "execution_start": 1633097767185,
    "execution_millis": 35,
    "deepnote_cell_type": "code"
   },
   "outputs": [
    {
     "name": "stdout",
     "text": "(170,)\n(43,)\n(170,)\n(43,)\n(136,)\n(34,)\n(136,)\n(34,)\n",
     "output_type": "stream"
    }
   ],
   "execution_count": null
  },
  {
   "cell_type": "code",
   "source": "X_train.head()",
   "metadata": {
    "tags": [],
    "cell_id": "00010-b72042f0-cd47-4d67-9a54-d2eca54dfde4",
    "deepnote_to_be_reexecuted": false,
    "source_hash": "7c234d23",
    "execution_start": 1633097772440,
    "execution_millis": 7,
    "deepnote_cell_type": "code"
   },
   "outputs": [
    {
     "output_type": "execute_result",
     "execution_count": 63,
     "data": {
      "text/plain": "4      drink champagne ro oh huncho game murda please...\n58     new purple shoe amazin people next door rock '...\n109    another obituary paper today one list already ...\n156    besame besame mucho time bring kiss hear music...\n209    wan na lover baby wan na man wan na lover baby...\nName: lyric, dtype: object"
     },
     "metadata": {}
    }
   ],
   "execution_count": null
  },
  {
   "cell_type": "code",
   "metadata": {
    "tags": [],
    "cell_id": "00009-db3bc2d8-297c-4c3d-abab-0d4bbc53abf0",
    "deepnote_to_be_reexecuted": false,
    "source_hash": "aed6db21",
    "execution_start": 1633097776846,
    "execution_millis": 34,
    "deepnote_cell_type": "code"
   },
   "source": "from sklearn.feature_extraction.text import CountVectorizer, TfidfVectorizer\n\ncount_vectorizer = CountVectorizer()\n\nbag_of_words = count_vectorizer.fit_transform(X_train)\n\nprint(type(bag_of_words[0]))\nprint(bag_of_words.shape)",
   "outputs": [
    {
     "name": "stdout",
     "text": "<class 'scipy.sparse.csr.csr_matrix'>\n(136, 2454)\n",
     "output_type": "stream"
    }
   ],
   "execution_count": null
  },
  {
   "cell_type": "code",
   "source": "print(bag_of_words[62])",
   "metadata": {
    "tags": [],
    "cell_id": "00014-7d06dd8e-3c7c-4fd1-b2c0-f998eefc382f",
    "deepnote_to_be_reexecuted": false,
    "source_hash": "e412d065",
    "execution_start": 1633097782746,
    "execution_millis": 1,
    "deepnote_cell_type": "code"
   },
   "outputs": [
    {
     "name": "stdout",
     "text": "  (0, 1463)\t1\n  (0, 1582)\t4\n  (0, 2436)\t1\n  (0, 2377)\t5\n  (0, 1963)\t1\n  (0, 1192)\t1\n  (0, 1421)\t1\n  (0, 1145)\t4\n  (0, 1235)\t24\n  (0, 54)\t4\n  (0, 2242)\t4\n  (0, 1966)\t3\n",
     "output_type": "stream"
    }
   ],
   "execution_count": null
  },
  {
   "cell_type": "code",
   "source": "pipe = make_pipeline(TfidfVectorizer(), LogisticRegression())\ncross_val_score(pipe, X_remain, y_remain).mean()",
   "metadata": {
    "tags": [],
    "cell_id": "00013-81bc8f81-fd3e-437d-a596-60a55434625d",
    "deepnote_to_be_reexecuted": false,
    "source_hash": "4c6bb3e9",
    "execution_start": 1633097796230,
    "execution_millis": 331,
    "deepnote_cell_type": "code"
   },
   "outputs": [
    {
     "output_type": "execute_result",
     "execution_count": 66,
     "data": {
      "text/plain": "0.5411764705882354"
     },
     "metadata": {}
    }
   ],
   "execution_count": null
  },
  {
   "cell_type": "markdown",
   "source": "<a style='text-decoration:none;line-height:16px;display:flex;color:#5B5B62;padding:10px;justify-content:end;' href='https://deepnote.com?utm_source=created-in-deepnote-cell&projectId=fb01898c-b7e0-4a0a-bfc6-7e769492b0ea' target=\"_blank\">\n<img alt='Created in deepnote.com' style='display:inline;max-height:16px;margin:0px;margin-right:7.5px;' src='data:image/svg+xml;base64,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' > </img>\nCreated in <span style='font-weight:600;margin-left:4px;'>Deepnote</span></a>",
   "metadata": {
    "tags": [],
    "created_in_deepnote_cell": true,
    "deepnote_cell_type": "markdown"
   }
  }
 ],
 "nbformat": 4,
 "nbformat_minor": 2,
 "metadata": {
  "orig_nbformat": 2,
  "deepnote": {
   "is_reactive": false
  },
  "deepnote_notebook_id": "80cddbad-c36f-483a-a5f0-680a2b2e286f",
  "deepnote_execution_queue": []
 }
}